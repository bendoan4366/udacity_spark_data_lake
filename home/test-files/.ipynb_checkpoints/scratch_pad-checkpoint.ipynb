{
 "cells": [
  {
   "cell_type": "code",
   "execution_count": 1,
   "metadata": {
    "editable": true
   },
   "outputs": [],
   "source": [
    "import configparser\n",
    "from datetime import datetime\n",
    "import os\n",
    "from pyspark.sql import SparkSession\n",
    "from pyspark.sql.functions import udf, col\n",
    "from pyspark.sql.functions import year, month, dayofmonth, hour, weekofyear, date_format\n",
    "from sql_queries import song_query, artist_query, filter_songplays_query, user_query, time_query, songplay_query\n",
    "\n",
    "\n",
    "config = configparser.ConfigParser()\n",
    "config.read('dl.cfg')\n",
    "\n",
    "os.environ['AWS_ACCESS_KEY_ID']=config['AWS']['AWS_ACCESS_KEY_ID']\n",
    "os.environ['AWS_SECRET_ACCESS_KEY']=config['AWS']['AWS_SECRET_ACCESS_KEY']"
   ]
  },
  {
   "cell_type": "code",
   "execution_count": 2,
   "metadata": {
    "editable": true
   },
   "outputs": [],
   "source": [
    "spark = SparkSession \\\n",
    "    .builder \\\n",
    "    .config(\"spark.jars.packages\", \"org.apache.hadoop:hadoop-aws:2.7.0\") \\\n",
    "    .getOrCreate()"
   ]
  },
  {
   "cell_type": "code",
   "execution_count": 3,
   "metadata": {
    "editable": true
   },
   "outputs": [],
   "source": [
    "def read_song_data(spark, input_data):\n",
    "    # get filepath to song data file\n",
    "    song_data = input_data + \"song_data/A/A/B/*.json\"\n",
    "    \n",
    "    # read song data file\n",
    "    df = spark.read.json(song_data)\n",
    "    df.createOrReplaceTempView(\"songs\")\n",
    "    \n",
    "    return df"
   ]
  },
  {
   "cell_type": "code",
   "execution_count": 4,
   "metadata": {
    "editable": true
   },
   "outputs": [],
   "source": [
    "def write_song_data(spark, df, output_data):\n",
    "    df.createOrReplaceTempView(\"songs\")\n",
    "\n",
    "    # extract columns to create songs table\n",
    "    songs_table = spark.sql(song_query)\n",
    "    \n",
    "    # write songs table to parquet files partitioned by year and artist\n",
    "    songs_table.write.partitionBy(\"year\", \"artist_id\").parquet(path = output_data + \"/songs.parquet\", mode = \"overwrite\")"
   ]
  },
  {
   "cell_type": "code",
   "execution_count": 5,
   "metadata": {
    "editable": true
   },
   "outputs": [],
   "source": [
    "def read_log_data(spark, input_data):\n",
    "    # get filepath to log data file\n",
    "    log_data = input_data + \"log_data/2018/11/*\"\n",
    "\n",
    "    # read log data file\n",
    "    df = spark.read.json(log_data)\n",
    "    df.createOrReplaceTempView(\"staging_events\")\n",
    "    \n",
    "    # filter by actions for song plays\n",
    "    df = spark.sql(filter_songplays_query)\n",
    "    \n",
    "    return df"
   ]
  },
  {
   "cell_type": "code",
   "execution_count": 6,
   "metadata": {
    "editable": true
   },
   "outputs": [],
   "source": [
    "input_data = \"s3a://udacity-dend/\"\n",
    "df = read_song_data(spark, input_data)    "
   ]
  },
  {
   "cell_type": "code",
   "execution_count": 7,
   "metadata": {
    "editable": true
   },
   "outputs": [
    {
     "name": "stdout",
     "output_type": "stream",
     "text": [
      "+------------------+---------------+--------------------+----------------+---------------+---------+---------+------------------+--------------------+----+\n",
      "|         artist_id|artist_latitude|     artist_location|artist_longitude|    artist_name| duration|num_songs|           song_id|               title|year|\n",
      "+------------------+---------------+--------------------+----------------+---------------+---------+---------+------------------+--------------------+----+\n",
      "|ARKIQCZ1187B9A7C7C|       52.23974|Northampton, Nort...|        -0.88576|        Bauhaus|248.65914|        1|SOSIJKW12A8C1330E3|A God In An Alcov...|   0|\n",
      "|ARI9DQS1187B995625|       44.93746|  Chippewa Falls, WI|       -91.39251|    Judy Henske|139.78077|        1|SODVVEL12A6D4F9EA0|Good Old Wagon (L...|1964|\n",
      "|AR2L9A61187B9ADDBC|       52.51607|     Berlin, Germany|        13.37698|Tangerine Dream|492.30322|        1|SOKPKMV12A8C14125E|Catwalk (Black In...|1995|\n",
      "|ARQTC851187B9B03AF|       39.08166|       Rockville, MD|       -77.15124|         O.A.R.|263.99302|        1|SOAADAD12A8C13D5B0|One Shot (Album V...|2005|\n",
      "|ARD842G1187B997376|       43.64856|Toronto, Ontario,...|       -79.38533|     Blue Rodeo|491.12771|        1|SOHUOAP12A8AE488E9|            Floating|1987|\n",
      "|ARN4G4X1187FB485B4|       54.31392|  Great Britain / UK|        -2.23218|    The Donkeys|214.96118|        1|SOSLGRK12A58A76E90|      Excelsior Lady|   0|\n",
      "|ARZD4UW1187B9AB3D2|       40.71455|  NEW YORK, New York|       -74.00712|    Latin Lover|401.10975|        1|SOIAQCE12AAF3B562B|         Laser Light|2000|\n",
      "|AR35RMH1187FB4A865|      -22.97673|      Rio de Janeiro|       -43.19508|  Eumir Deodato|111.28118|        1|SOHZIGH12A6D4F8D14|     A Grande Cacada|   0|\n",
      "|ARC43071187B990240|           null|          Wisner, LA|            null|   Wayne Watson|245.21098|        1|SOKEJEJ12A8C13E0D0|The Urgency (LP V...|   0|\n",
      "|ARPTKAK1187FB5308A|           null|                    |            null|       Plus One|308.87138|        1|SONAAEB12AB018A443|What Child Is Thi...|2002|\n",
      "+------------------+---------------+--------------------+----------------+---------------+---------+---------+------------------+--------------------+----+\n",
      "only showing top 10 rows\n",
      "\n"
     ]
    }
   ],
   "source": [
    "df.show(10)"
   ]
  },
  {
   "cell_type": "code",
   "execution_count": 8,
   "metadata": {
    "editable": true
   },
   "outputs": [
    {
     "name": "stdout",
     "output_type": "stream",
     "text": [
      "root\n",
      " |-- artist_id: string (nullable = true)\n",
      " |-- artist_latitude: double (nullable = true)\n",
      " |-- artist_location: string (nullable = true)\n",
      " |-- artist_longitude: double (nullable = true)\n",
      " |-- artist_name: string (nullable = true)\n",
      " |-- duration: double (nullable = true)\n",
      " |-- num_songs: long (nullable = true)\n",
      " |-- song_id: string (nullable = true)\n",
      " |-- title: string (nullable = true)\n",
      " |-- year: long (nullable = true)\n",
      "\n"
     ]
    }
   ],
   "source": [
    "df.printSchema()"
   ]
  },
  {
   "cell_type": "code",
   "execution_count": 9,
   "metadata": {
    "editable": true
   },
   "outputs": [],
   "source": [
    "write_song_data(spark, df, \"s3a://knd-udacity-data-lake-project/test-bucket/\")"
   ]
  },
  {
   "cell_type": "code",
   "execution_count": 10,
   "metadata": {
    "editable": true
   },
   "outputs": [],
   "source": [
    "input_data = \"s3a://udacity-dend/\"\n",
    "df_log = read_log_data(spark, \"s3a://udacity-dend/\")"
   ]
  },
  {
   "cell_type": "code",
   "execution_count": 11,
   "metadata": {
    "editable": true
   },
   "outputs": [
    {
     "name": "stdout",
     "output_type": "stream",
     "text": [
      "root\n",
      " |-- artist: string (nullable = true)\n",
      " |-- auth: string (nullable = true)\n",
      " |-- firstName: string (nullable = true)\n",
      " |-- gender: string (nullable = true)\n",
      " |-- itemInSession: long (nullable = true)\n",
      " |-- lastName: string (nullable = true)\n",
      " |-- length: double (nullable = true)\n",
      " |-- level: string (nullable = true)\n",
      " |-- location: string (nullable = true)\n",
      " |-- method: string (nullable = true)\n",
      " |-- page: string (nullable = true)\n",
      " |-- registration: double (nullable = true)\n",
      " |-- sessionId: long (nullable = true)\n",
      " |-- song: string (nullable = true)\n",
      " |-- status: long (nullable = true)\n",
      " |-- ts: long (nullable = true)\n",
      " |-- userAgent: string (nullable = true)\n",
      " |-- userId: string (nullable = true)\n",
      "\n"
     ]
    }
   ],
   "source": [
    "df_log.printSchema()"
   ]
  },
  {
   "cell_type": "code",
   "execution_count": 12,
   "metadata": {
    "editable": true
   },
   "outputs": [
    {
     "name": "stdout",
     "output_type": "stream",
     "text": [
      "+-----------+---------+---------+------+-------------+--------+---------+-----+--------------------+------+--------+-----------------+---------+--------------------+------+-------------+--------------------+------+\n",
      "|     artist|     auth|firstName|gender|itemInSession|lastName|   length|level|            location|method|    page|     registration|sessionId|                song|status|           ts|           userAgent|userId|\n",
      "+-----------+---------+---------+------+-------------+--------+---------+-----+--------------------+------+--------+-----------------+---------+--------------------+------+-------------+--------------------+------+\n",
      "|   Harmonia|Logged In|     Ryan|     M|            0|   Smith|655.77751| free|San Jose-Sunnyval...|   PUT|NextSong|1.541016707796E12|      583|       Sehr kosmisch|   200|1542241826796|\"Mozilla/5.0 (X11...|    26|\n",
      "|The Prodigy|Logged In|     Ryan|     M|            1|   Smith|260.07465| free|San Jose-Sunnyval...|   PUT|NextSong|1.541016707796E12|      583|     The Big Gundown|   200|1542242481796|\"Mozilla/5.0 (X11...|    26|\n",
      "|      Train|Logged In|     Ryan|     M|            2|   Smith|205.45261| free|San Jose-Sunnyval...|   PUT|NextSong|1.541016707796E12|      583|            Marry Me|   200|1542242741796|\"Mozilla/5.0 (X11...|    26|\n",
      "|Sony Wonder|Logged In|   Samuel|     M|            0|Gonzalez|218.06975| free|Houston-The Woodl...|   PUT|NextSong|1.540492941796E12|      597|           Blackbird|   200|1542253449796|\"Mozilla/5.0 (Mac...|    61|\n",
      "|  Van Halen|Logged In|    Tegan|     F|            2|  Levine|289.38404| paid|Portland-South Po...|   PUT|NextSong|1.540794356796E12|      602|Best Of Both Worl...|   200|1542260935796|\"Mozilla/5.0 (Mac...|    80|\n",
      "+-----------+---------+---------+------+-------------+--------+---------+-----+--------------------+------+--------+-----------------+---------+--------------------+------+-------------+--------------------+------+\n",
      "only showing top 5 rows\n",
      "\n"
     ]
    }
   ],
   "source": [
    "df_log.show(5)"
   ]
  },
  {
   "cell_type": "code",
   "execution_count": 13,
   "metadata": {
    "editable": true
   },
   "outputs": [],
   "source": [
    "df_log.createOrReplaceTempView(\"staging_events_filtered\")"
   ]
  },
  {
   "cell_type": "code",
   "execution_count": 14,
   "metadata": {
    "editable": true
   },
   "outputs": [],
   "source": [
    "time = spark.sql(\"SELECT cast(ts/1000 as timestamp) as timestamp FROM staging_events_filtered\")"
   ]
  },
  {
   "cell_type": "code",
   "execution_count": 15,
   "metadata": {
    "editable": true
   },
   "outputs": [
    {
     "name": "stdout",
     "output_type": "stream",
     "text": [
      "+--------------------+\n",
      "|           timestamp|\n",
      "+--------------------+\n",
      "|2018-11-15 00:30:...|\n",
      "|2018-11-15 00:41:...|\n",
      "|2018-11-15 00:45:...|\n",
      "|2018-11-15 03:44:...|\n",
      "|2018-11-15 05:48:...|\n",
      "+--------------------+\n",
      "only showing top 5 rows\n",
      "\n"
     ]
    }
   ],
   "source": [
    "time.show(5)"
   ]
  },
  {
   "cell_type": "code",
   "execution_count": 16,
   "metadata": {
    "editable": true
   },
   "outputs": [
    {
     "name": "stdout",
     "output_type": "stream",
     "text": [
      "root\n",
      " |-- timestamp: timestamp (nullable = true)\n",
      "\n"
     ]
    }
   ],
   "source": [
    "time.printSchema()"
   ]
  },
  {
   "cell_type": "code",
   "execution_count": 17,
   "metadata": {
    "editable": true
   },
   "outputs": [],
   "source": [
    "time_table = spark.sql(\"\"\"\n",
    "            SELECT DISTINCT timestamp as start_time, \n",
    "                            hour(timestamp) as hour,\n",
    "                            day(timestamp) as day,\n",
    "                            weekofyear(timestamp) as week,\n",
    "                            month(timestamp) as month,\n",
    "                            year(timestamp) as year,\n",
    "                            weekday(timestamp) as weekday\n",
    "            FROM (\n",
    "                SELECT CAST(ts/1000 AS Timestamp) AS timestamp\n",
    "                FROM staging_events_filtered\n",
    "                )\n",
    "            \"\"\")"
   ]
  },
  {
   "cell_type": "code",
   "execution_count": 18,
   "metadata": {
    "editable": true
   },
   "outputs": [
    {
     "name": "stdout",
     "output_type": "stream",
     "text": [
      "+--------------------+----+---+----+-----+----+-------+\n",
      "|          start_time|hour|day|week|month|year|weekday|\n",
      "+--------------------+----+---+----+-----+----+-------+\n",
      "|2018-11-15 20:56:...|  20| 15|  46|   11|2018|      3|\n",
      "|2018-11-21 05:29:...|   5| 21|  47|   11|2018|      2|\n",
      "|2018-11-21 09:04:...|   9| 21|  47|   11|2018|      2|\n",
      "|2018-11-21 20:55:...|  20| 21|  47|   11|2018|      2|\n",
      "|2018-11-14 07:10:...|   7| 14|  46|   11|2018|      2|\n",
      "+--------------------+----+---+----+-----+----+-------+\n",
      "only showing top 5 rows\n",
      "\n"
     ]
    }
   ],
   "source": [
    "time_table.show(5)"
   ]
  },
  {
   "cell_type": "code",
   "execution_count": 44,
   "metadata": {
    "editable": true
   },
   "outputs": [],
   "source": [
    "test_songplays = spark.sql(\"\"\"\n",
    "                SELECT month(CAST(events.ts/1000 AS Timestamp)) as month,\n",
    "                       year(CAST(events.ts/1000 AS Timestamp)) as year,\n",
    "                       CAST(events.ts/1000 AS Timestamp) AS timestamp,\n",
    "                       events.userId, \n",
    "                       events.level, \n",
    "                       events.sessionId, \n",
    "                       events.location, \n",
    "                       events.userAgent,\n",
    "                       events.song,\n",
    "                       songs.song_id, \n",
    "                       songs.artist_id\n",
    "                FROM staging_events_filtered as events \n",
    "                FULL JOIN songs ON events.song = songs.title\n",
    "                \"\"\")"
   ]
  },
  {
   "cell_type": "code",
   "execution_count": 45,
   "metadata": {
    "editable": true
   },
   "outputs": [
    {
     "name": "stdout",
     "output_type": "stream",
     "text": [
      "+-----+----+--------------------+------+-----+---------+--------------------+--------------------+--------------------+-------+---------+\n",
      "|month|year|           timestamp|userId|level|sessionId|            location|           userAgent|                song|song_id|artist_id|\n",
      "+-----+----+--------------------+------+-----+---------+--------------------+--------------------+--------------------+-------+---------+\n",
      "|   11|2018|2018-11-16 18:45:...|    36| paid|      461|Janesville-Beloit...|\"Mozilla/5.0 (Win...|Can't Smile Witho...|   null|     null|\n",
      "|   11|2018|2018-11-30 05:48:...|    49| paid|     1079|San Francisco-Oak...|Mozilla/5.0 (Wind...|Chloe Dancer/Crow...|   null|     null|\n",
      "|   11|2018|2018-11-26 19:01:...|    80| paid|      933|Portland-South Po...|\"Mozilla/5.0 (Mac...|       Crossing Over|   null|     null|\n",
      "|   11|2018|2018-11-15 20:55:...|    44| paid|      619|Waterloo-Cedar Fa...|Mozilla/5.0 (Maci...|Evolution (the Gr...|   null|     null|\n",
      "|   11|2018|2018-11-20 02:34:...|    85| paid|      658|       Red Bluff, CA|\"Mozilla/5.0 (Mac...|Evolution (the Gr...|   null|     null|\n",
      "|   11|2018|2018-11-08 11:00:...|    80| paid|      342|Portland-South Po...|\"Mozilla/5.0 (Mac...|He Was In Heaven ...|   null|     null|\n",
      "|   11|2018|2018-11-18 19:18:...|    29| paid|      589|Atlanta-Sandy Spr...|\"Mozilla/5.0 (Mac...|         Hello Walls|   null|     null|\n",
      "|   11|2018|2018-11-15 11:44:...|    30| paid|      324|San Jose-Sunnyval...|Mozilla/5.0 (Wind...|Joshua's Song (19...|   null|     null|\n",
      "|   11|2018|2018-11-17 23:18:...|    70| paid|      113|San Antonio-New B...|Mozilla/5.0 (Wind...|Just More (Album ...|   null|     null|\n",
      "|   11|2018|2018-11-09 19:20:...|    36| paid|      392|Janesville-Beloit...|\"Mozilla/5.0 (Win...|           Lava Lava|   null|     null|\n",
      "|   11|2018|2018-11-15 18:25:...|    97| paid|      605|Lansing-East Lans...|\"Mozilla/5.0 (X11...|    Life After Death|   null|     null|\n",
      "|   11|2018|2018-11-26 10:02:...|    53| free|      883|   Klamath Falls, OR|\"Mozilla/5.0 (Win...|   Magic Carpet Ride|   null|     null|\n",
      "|   11|2018|2018-11-16 09:04:...|    80| paid|      620|Portland-South Po...|\"Mozilla/5.0 (Mac...|  My Favorite Things|   null|     null|\n",
      "|   11|2018|2018-11-14 00:11:...|    95| paid|      411|   Winston-Salem, NC|\"Mozilla/5.0 (iPh...|          Nada De Ti|   null|     null|\n",
      "|   11|2018|2018-11-24 13:51:...|    73| paid|      692|Tampa-St. Petersb...|\"Mozilla/5.0 (Mac...|          Nada De Ti|   null|     null|\n",
      "|   11|2018|2018-11-26 18:58:...|    80| paid|      933|Portland-South Po...|\"Mozilla/5.0 (Mac...|             Push It|   null|     null|\n",
      "|   11|2018|2018-11-30 18:36:...|    49| paid|     1114|San Francisco-Oak...|Mozilla/5.0 (Wind...|              Remedy|   null|     null|\n",
      "|   11|2018|2018-11-03 18:42:...|    95| paid|      152|   Winston-Salem, NC|\"Mozilla/5.0 (iPh...|         TULENLIEKKI|   null|     null|\n",
      "|   11|2018|2018-11-28 23:22:...|    24| paid|      984|Lake Havasu City-...|\"Mozilla/5.0 (Win...|The Coolest (Expl...|   null|     null|\n",
      "|   11|2018|2018-11-26 08:48:...|    44| paid|      781|Waterloo-Cedar Fa...|Mozilla/5.0 (Maci...|Turn The Radio Of...|   null|     null|\n",
      "|   11|2018|2018-11-15 10:11:...|    80| paid|      611|Portland-South Po...|\"Mozilla/5.0 (Mac...|What's A Broken H...|   null|     null|\n",
      "|   11|2018|2018-11-13 17:37:...|    97| paid|      537|Lansing-East Lans...|\"Mozilla/5.0 (X11...|          Aberinkula|   null|     null|\n",
      "|   11|2018|2018-11-05 10:59:...|    44| paid|      269|Waterloo-Cedar Fa...|Mozilla/5.0 (Maci...|             Amerika|   null|     null|\n",
      "|   11|2018|2018-11-21 06:51:...|    97| paid|      797|Lansing-East Lans...|\"Mozilla/5.0 (X11...|Anytime You Need ...|   null|     null|\n",
      "|   11|2018|2018-11-22 20:18:...|     6| free|      763|Atlanta-Sandy Spr...|Mozilla/5.0 (Wind...|        ConfesiÃÂ³n|   null|     null|\n",
      "|   11|2018|2018-11-20 19:22:...|    49| paid|      758|San Francisco-Oak...|Mozilla/5.0 (Wind...|Days Of The Week ...|   null|     null|\n",
      "|   11|2018|2018-11-06 19:53:...|    97| paid|      293|Lansing-East Lans...|\"Mozilla/5.0 (X11...|Dear God (Sincere...|   null|     null|\n",
      "|   11|2018|2018-11-02 03:34:...|    86| free|      170|La Crosse-Onalask...|\"Mozilla/5.0 (Mac...|      Falta Te Dizer|   null|     null|\n",
      "|   11|2018|2018-11-02 09:19:...|    15| paid|      172|Chicago-Napervill...|\"Mozilla/5.0 (X11...|               Greed|   null|     null|\n",
      "|   11|2018|2018-11-21 02:59:...|    80| paid|      774|Portland-South Po...|\"Mozilla/5.0 (Mac...|     Hacha Y Machete|   null|     null|\n",
      "|   11|2018|2018-11-28 22:51:...|    24| paid|      984|Lake Havasu City-...|\"Mozilla/5.0 (Win...|    Lay Down My Guns|   null|     null|\n",
      "|   11|2018|2018-11-18 13:44:...|    29| paid|      589|Atlanta-Sandy Spr...|\"Mozilla/5.0 (Mac...|Like you better dead|   null|     null|\n",
      "|   11|2018|2018-11-21 06:15:...|    97| paid|      797|Lansing-East Lans...|\"Mozilla/5.0 (X11...|        Mary (Album)|   null|     null|\n",
      "|   11|2018|2018-11-21 21:49:...|    15| paid|      818|Chicago-Napervill...|\"Mozilla/5.0 (X11...|Meeting Paris Hil...|   null|     null|\n",
      "|   11|2018|2018-11-19 15:36:...|    49| paid|      724|San Francisco-Oak...|Mozilla/5.0 (Wind...|           Ming Tran|   null|     null|\n",
      "|   11|2018|2018-11-14 05:15:...|    80| paid|      548|Portland-South Po...|\"Mozilla/5.0 (Mac...|  Scotch & Chocolate|   null|     null|\n",
      "|   11|2018|2018-11-27 16:55:...|    49| paid|      987|San Francisco-Oak...|Mozilla/5.0 (Wind...|  Scotch & Chocolate|   null|     null|\n",
      "|   11|2018|2018-11-24 16:36:...|    80| paid|      910|Portland-South Po...|\"Mozilla/5.0 (Mac...|          The Nation|   null|     null|\n",
      "|   11|2018|2018-11-12 19:49:...|    32| free|      512|New York-Newark-J...|\"Mozilla/5.0 (Win...|         The Tourist|   null|     null|\n",
      "|   11|2018|2018-11-29 16:11:...|    16| paid|      983|Birmingham-Hoover...|\"Mozilla/5.0 (Mac...|              Threat|   null|     null|\n",
      "|   11|2018|2018-11-13 23:36:...|    95| paid|      411|   Winston-Salem, NC|\"Mozilla/5.0 (iPh...|Where Do The Chil...|   null|     null|\n",
      "|   11|2018|2018-11-24 12:17:...|    95| paid|      564|   Winston-Salem, NC|\"Mozilla/5.0 (iPh...|      Yeah! New York|   null|     null|\n",
      "|   11|2018|2018-11-05 20:58:...|   101| free|      296|New Orleans-Metai...|\"Mozilla/5.0 (Win...|      A-Punk (Album)|   null|     null|\n",
      "|   11|2018|2018-11-30 14:21:...|    49| paid|     1096|San Francisco-Oak...|Mozilla/5.0 (Wind...|      A-Punk (Album)|   null|     null|\n",
      "|   11|2018|2018-11-21 03:17:...|    80| paid|      774|Portland-South Po...|\"Mozilla/5.0 (Mac...|Ambling Alp (DJ /...|   null|     null|\n",
      "|   11|2018|2018-11-09 19:05:...|    36| paid|      392|Janesville-Beloit...|\"Mozilla/5.0 (Win...|Blue Collar Man (...|   null|     null|\n",
      "|   11|2018|2018-11-16 21:14:...|    49| paid|      648|San Francisco-Oak...|Mozilla/5.0 (Wind...|EG GLEÃÂIST SO ...|   null|     null|\n",
      "|   11|2018|2018-11-13 14:45:...|    29| paid|      486|Atlanta-Sandy Spr...|\"Mozilla/5.0 (Mac...|             En resa|   null|     null|\n",
      "|   11|2018|2018-11-07 05:32:...|    50| free|      313|New Haven-Milford...|\"Mozilla/5.0 (Win...|  Enganchate Conmigo|   null|     null|\n",
      "|   11|2018|2018-11-27 18:51:...|    88| paid|      969|Sacramento--Rosev...|\"Mozilla/5.0 (Mac...|           Eu Te Amo|   null|     null|\n",
      "|   11|2018|2018-11-26 14:40:...|    72| paid|      381|Detroit-Warren-De...|Mozilla/5.0 (Maci...|         Farmer John|   null|     null|\n",
      "|   11|2018|2018-11-30 14:42:...|   101| free|     1060|New Orleans-Metai...|\"Mozilla/5.0 (Win...|    Frankie's Office|   null|     null|\n",
      "|   11|2018|2018-11-05 17:03:...|    73| paid|      255|Tampa-St. Petersb...|\"Mozilla/5.0 (Mac...|           Good Life|   null|     null|\n",
      "|   11|2018|2018-11-19 06:30:...|    80| paid|      666|Portland-South Po...|\"Mozilla/5.0 (Mac...|           Good Life|   null|     null|\n",
      "|   11|2018|2018-11-28 13:04:...|    97| paid|      944|Lansing-East Lans...|\"Mozilla/5.0 (X11...|      Help I'm Alive|   null|     null|\n",
      "|   11|2018|2018-11-16 17:22:...|    97| paid|      633|Lansing-East Lans...|\"Mozilla/5.0 (X11...|      Help I'm Alive|   null|     null|\n",
      "|   11|2018|2018-11-26 18:38:...|    80| paid|      933|Portland-South Po...|\"Mozilla/5.0 (Mac...|      Help I'm Alive|   null|     null|\n",
      "|   11|2018|2018-11-15 11:11:...|    80| paid|      611|Portland-South Po...|\"Mozilla/5.0 (Mac...|Hey Daddy (Daddy'...|   null|     null|\n",
      "|   11|2018|2018-11-05 17:31:...|    73| paid|      255|Tampa-St. Petersb...|\"Mozilla/5.0 (Mac...|Hey Daddy (Daddy'...|   null|     null|\n",
      "|   11|2018|2018-11-05 18:13:...|    73| paid|      255|Tampa-St. Petersb...|\"Mozilla/5.0 (Mac...|Hey Daddy (Daddy'...|   null|     null|\n",
      "|   11|2018|2018-11-09 18:01:...|    50| free|      360|New Haven-Milford...|\"Mozilla/5.0 (Win...|Hey Daddy (Daddy'...|   null|     null|\n",
      "|   11|2018|2018-11-26 13:55:...|    72| paid|      381|Detroit-Warren-De...|Mozilla/5.0 (Maci...|Hey Daddy (Daddy'...|   null|     null|\n",
      "|   11|2018|2018-11-08 07:41:...|    80| paid|      342|Portland-South Po...|\"Mozilla/5.0 (Mac...|Hey Daddy (Daddy'...|   null|     null|\n",
      "|   11|2018|2018-11-15 16:58:...|    97| paid|      605|Lansing-East Lans...|\"Mozilla/5.0 (X11...|          Kryptonite|   null|     null|\n",
      "|   11|2018|2018-11-30 15:15:...|    16| paid|     1076|Birmingham-Hoover...|\"Mozilla/5.0 (Mac...|          Kryptonite|   null|     null|\n",
      "|   11|2018|2018-11-16 12:30:...|    80| paid|      620|Portland-South Po...|\"Mozilla/5.0 (Mac...|          Kryptonite|   null|     null|\n",
      "|   11|2018|2018-11-24 17:21:...|    49| paid|      849|San Francisco-Oak...|Mozilla/5.0 (Wind...|          Kryptonite|   null|     null|\n",
      "|   11|2018|2018-11-24 17:39:...|    49| paid|      849|San Francisco-Oak...|Mozilla/5.0 (Wind...|          Kryptonite|   null|     null|\n",
      "|   11|2018|2018-11-08 08:25:...|    80| paid|      342|Portland-South Po...|\"Mozilla/5.0 (Mac...|           La Rumeur|   null|     null|\n",
      "|   11|2018|2018-11-13 18:39:...|    15| paid|      417|Chicago-Napervill...|\"Mozilla/5.0 (X11...|      Mise En Bouche|   null|     null|\n",
      "|   11|2018|2018-11-14 11:21:...|    15| paid|      557|Chicago-Napervill...|\"Mozilla/5.0 (X11...|       Strange Fruit|   null|     null|\n",
      "|   11|2018|2018-11-27 19:20:...|    80| paid|      992|Portland-South Po...|\"Mozilla/5.0 (Mac...|            Tomorrow|   null|     null|\n",
      "|   11|2018|2018-11-07 13:53:...|    44| paid|      285|Waterloo-Cedar Fa...|Mozilla/5.0 (Maci...|            Tomorrow|   null|     null|\n",
      "|   11|2018|2018-11-07 19:25:...|    15| paid|      221|Chicago-Napervill...|\"Mozilla/5.0 (X11...|Ain't What It Use...|   null|     null|\n",
      "|   11|2018|2018-11-09 15:50:...|    80| paid|      416|Portland-South Po...|\"Mozilla/5.0 (Mac...|            Backyard|   null|     null|\n",
      "|   11|2018|2018-11-13 20:14:...|    29| paid|      556|Atlanta-Sandy Spr...|\"Mozilla/5.0 (Mac...|           Bandelero|   null|     null|\n",
      "|   11|2018|2018-11-15 03:44:...|    61| free|      597|Houston-The Woodl...|\"Mozilla/5.0 (Mac...|           Blackbird|   null|     null|\n",
      "|   11|2018|2018-11-19 21:01:...|    42| paid|      632|New York-Newark-J...|\"Mozilla/5.0 (Win...|       Blue Eyed Pop|   null|     null|\n",
      "|   11|2018|2018-11-30 04:21:...|    26| free|     1068|San Jose-Sunnyval...|\"Mozilla/5.0 (X11...|          Bottle Pop|   null|     null|\n",
      "|   11|2018|2018-11-05 13:28:...|    44| paid|      269|Waterloo-Cedar Fa...|Mozilla/5.0 (Maci...|Cape Cod Kwassa K...|   null|     null|\n",
      "|   11|2018|2018-11-19 02:17:...|    24| paid|      672|Lake Havasu City-...|\"Mozilla/5.0 (Win...|  Crack The Shutters|   null|     null|\n",
      "|   11|2018|2018-11-17 14:40:...|    73| paid|      518|Tampa-St. Petersb...|\"Mozilla/5.0 (Mac...|  Crack The Shutters|   null|     null|\n",
      "|   11|2018|2018-11-15 11:01:...|    80| paid|      611|Portland-South Po...|\"Mozilla/5.0 (Mac...|Dans Ma Bulle (Ed...|   null|     null|\n",
      "|   11|2018|2018-11-18 19:43:...|    29| paid|      589|Atlanta-Sandy Spr...|\"Mozilla/5.0 (Mac...|Dans Ma Bulle (Ed...|   null|     null|\n",
      "|   11|2018|2018-11-05 09:14:...|    42| paid|      129|New York-Newark-J...|\"Mozilla/5.0 (Win...|          Fire Power|   null|     null|\n",
      "|   11|2018|2018-11-11 10:00:...|    92| free|      328|       Palestine, TX|Mozilla/5.0 (Maci...|          Five Roses|   null|     null|\n",
      "|   11|2018|2018-11-30 14:53:...|    16| paid|     1076|Birmingham-Hoover...|\"Mozilla/5.0 (Mac...|Get Ready To Boun...|   null|     null|\n",
      "|   11|2018|2018-11-19 13:49:...|    41| free|      477|New York-Newark-J...|Mozilla/5.0 (Wind...|Get Ready To Boun...|   null|     null|\n",
      "|   11|2018|2018-11-23 12:02:...|    16| paid|      854|Birmingham-Hoover...|\"Mozilla/5.0 (Mac...|I Don't Like The ...|   null|     null|\n",
      "|   11|2018|2018-11-24 17:25:...|    29| paid|      898|Atlanta-Sandy Spr...|\"Mozilla/5.0 (Mac...|I'm A Lady [feat....|   null|     null|\n",
      "|   11|2018|2018-11-09 18:38:...|    80| paid|      416|Portland-South Po...|\"Mozilla/5.0 (Mac...|           I'm Shady|   null|     null|\n",
      "|   11|2018|2018-11-15 14:23:...|    97| paid|      605|Lansing-East Lans...|\"Mozilla/5.0 (X11...|Let There Be Lite...|   null|     null|\n",
      "|   11|2018|2018-11-15 00:45:...|    26| free|      583|San Jose-Sunnyval...|\"Mozilla/5.0 (X11...|            Marry Me|   null|     null|\n",
      "|   11|2018|2018-11-15 22:49:...|    44| paid|      619|Waterloo-Cedar Fa...|Mozilla/5.0 (Maci...|            Marry Me|   null|     null|\n",
      "|   11|2018|2018-11-24 17:48:...|    29| paid|      898|Atlanta-Sandy Spr...|\"Mozilla/5.0 (Mac...|            Marry Me|   null|     null|\n",
      "|   11|2018|2018-11-12 19:32:...|    73| paid|      294|Tampa-St. Petersb...|\"Mozilla/5.0 (Mac...|            Marry Me|   null|     null|\n",
      "|   11|2018|2018-11-12 19:49:...|    73| paid|      294|Tampa-St. Petersb...|\"Mozilla/5.0 (Mac...|            Marry Me|   null|     null|\n",
      "|   11|2018|2018-11-18 19:40:...|    29| paid|      589|Atlanta-Sandy Spr...|\"Mozilla/5.0 (Mac...|            Marry Me|   null|     null|\n",
      "|   11|2018|2018-11-21 18:49:...|    50| free|      694|New Haven-Milford...|\"Mozilla/5.0 (Win...|         Me Voy A Ir|   null|     null|\n",
      "|   11|2018|2018-11-13 23:40:...|    95| paid|      411|   Winston-Salem, NC|\"Mozilla/5.0 (iPh...|         Me Voy A Ir|   null|     null|\n",
      "+-----+----+--------------------+------+-----+---------+--------------------+--------------------+--------------------+-------+---------+\n",
      "only showing top 100 rows\n",
      "\n"
     ]
    }
   ],
   "source": [
    "test_songplays.show(100)"
   ]
  },
  {
   "cell_type": "code",
   "execution_count": 19,
   "metadata": {
    "editable": true
   },
   "outputs": [],
   "source": [
    "songplays = spark.sql(songplay_query)"
   ]
  },
  {
   "cell_type": "code",
   "execution_count": 20,
   "metadata": {
    "editable": true
   },
   "outputs": [
    {
     "name": "stdout",
     "output_type": "stream",
     "text": [
      "+-----+----+---------+------+-----+---------+--------+---------+-------+---------+\n",
      "|month|year|timestamp|userId|level|sessionId|location|userAgent|song_id|artist_id|\n",
      "+-----+----+---------+------+-----+---------+--------+---------+-------+---------+\n",
      "+-----+----+---------+------+-----+---------+--------+---------+-------+---------+\n",
      "\n"
     ]
    }
   ],
   "source": [
    "songplays.show(20)"
   ]
  },
  {
   "cell_type": "code",
   "execution_count": 22,
   "metadata": {
    "editable": true
   },
   "outputs": [],
   "source": [
    "staging_events_filtered = spark.sql(\"SELECT * FROM staging_events_filtered\")"
   ]
  },
  {
   "cell_type": "code",
   "execution_count": 24,
   "metadata": {
    "editable": true
   },
   "outputs": [
    {
     "name": "stdout",
     "output_type": "stream",
     "text": [
      "root\n",
      " |-- artist: string (nullable = true)\n",
      " |-- auth: string (nullable = true)\n",
      " |-- firstName: string (nullable = true)\n",
      " |-- gender: string (nullable = true)\n",
      " |-- itemInSession: long (nullable = true)\n",
      " |-- lastName: string (nullable = true)\n",
      " |-- length: double (nullable = true)\n",
      " |-- level: string (nullable = true)\n",
      " |-- location: string (nullable = true)\n",
      " |-- method: string (nullable = true)\n",
      " |-- page: string (nullable = true)\n",
      " |-- registration: double (nullable = true)\n",
      " |-- sessionId: long (nullable = true)\n",
      " |-- song: string (nullable = true)\n",
      " |-- status: long (nullable = true)\n",
      " |-- ts: long (nullable = true)\n",
      " |-- userAgent: string (nullable = true)\n",
      " |-- userId: string (nullable = true)\n",
      "\n"
     ]
    }
   ],
   "source": [
    "staging_events_filtered.printSchema()"
   ]
  },
  {
   "cell_type": "code",
   "execution_count": 31,
   "metadata": {
    "editable": true
   },
   "outputs": [],
   "source": [
    "staging_titles = staging_events_filtered.select(\"song\")\n",
    "staging_titles.createOrReplaceTempView(\"temp_staging_titles\")"
   ]
  },
  {
   "cell_type": "code",
   "execution_count": 32,
   "metadata": {
    "editable": true
   },
   "outputs": [],
   "source": [
    "song_titles = df.select(\"title\")\n",
    "song_titles.createOrReplaceTempView(\"temp_song_titles\")"
   ]
  },
  {
   "cell_type": "code",
   "execution_count": 33,
   "metadata": {
    "editable": true
   },
   "outputs": [
    {
     "name": "stdout",
     "output_type": "stream",
     "text": [
      "root\n",
      " |-- song: string (nullable = true)\n",
      "\n",
      "None\n",
      "root\n",
      " |-- title: string (nullable = true)\n",
      "\n",
      "None\n"
     ]
    }
   ],
   "source": [
    "print(staging_titles.printSchema())\n",
    "print(song_titles.printSchema())"
   ]
  },
  {
   "cell_type": "code",
   "execution_count": 38,
   "metadata": {
    "editable": true
   },
   "outputs": [
    {
     "name": "stdout",
     "output_type": "stream",
     "text": [
      "+--------------------+\n",
      "|                song|\n",
      "+--------------------+\n",
      "|       Sehr kosmisch|\n",
      "|     The Big Gundown|\n",
      "|            Marry Me|\n",
      "|           Blackbird|\n",
      "|Best Of Both Worl...|\n",
      "|Call Me If You Ne...|\n",
      "|                Home|\n",
      "|                 OMG|\n",
      "| Candle On The Water|\n",
      "|            Our Song|\n",
      "|Baby Boy [feat. B...|\n",
      "|      Black Hole Sun|\n",
      "|               Human|\n",
      "|            Addicted|\n",
      "|                 Air|\n",
      "|          Superbeast|\n",
      "|          I Remember|\n",
      "|Don't Be Stupid (...|\n",
      "|We throw parties_...|\n",
      "|How Can I Live (S...|\n",
      "|       Thugs Like Me|\n",
      "| Killing In The Name|\n",
      "|            Epilogue|\n",
      "|           Endlessly|\n",
      "|             Torches|\n",
      "|The Good Times Ar...|\n",
      "|     Te Conozco Bien|\n",
      "|The Calculation (...|\n",
      "| Goodbye (Interlude)|\n",
      "|              Canada|\n",
      "|                 Ven|\n",
      "|Do You Remember T...|\n",
      "|I Want Your (Hand...|\n",
      "|           Chill Out|\n",
      "|Something (Radio ...|\n",
      "|What's A Broken H...|\n",
      "|             Society|\n",
      "| Christians In Black|\n",
      "|            Uprising|\n",
      "|Might Like You Be...|\n",
      "|   Sheila Take A Bow|\n",
      "|Victoria (LP Vers...|\n",
      "|     Dreaming Of You|\n",
      "|What's Luv? (Feat...|\n",
      "|     Soft Revolution|\n",
      "|Same Mistake  (Al...|\n",
      "|Bruised And Scarr...|\n",
      "|   Frisch und g'sund|\n",
      "|              Rockit|\n",
      "|Should've Been A ...|\n",
      "+--------------------+\n",
      "only showing top 50 rows\n",
      "\n"
     ]
    }
   ],
   "source": [
    "staging_titles.show(50)"
   ]
  },
  {
   "cell_type": "code",
   "execution_count": 39,
   "metadata": {
    "editable": true
   },
   "outputs": [
    {
     "name": "stdout",
     "output_type": "stream",
     "text": [
      "+--------------------+\n",
      "|               title|\n",
      "+--------------------+\n",
      "|A God In An Alcov...|\n",
      "|Good Old Wagon (L...|\n",
      "|Catwalk (Black In...|\n",
      "|One Shot (Album V...|\n",
      "|            Floating|\n",
      "|      Excelsior Lady|\n",
      "|         Laser Light|\n",
      "|     A Grande Cacada|\n",
      "|The Urgency (LP V...|\n",
      "|What Child Is Thi...|\n",
      "|           High Tide|\n",
      "|     Arms and Armour|\n",
      "|    Auburn and Ivory|\n",
      "|Sex Is On Everyon...|\n",
      "|          Our Father|\n",
      "|       Walk the Walk|\n",
      "|         Without You|\n",
      "|       Blood In Face|\n",
      "|         Siempre Ana|\n",
      "|               Brain|\n",
      "|          I Know You|\n",
      "|        En Que Mujer|\n",
      "|           China Boy|\n",
      "|   Caught In A Dream|\n",
      "|             Monóico|\n",
      "|            La Culpa|\n",
      "+--------------------+\n",
      "\n"
     ]
    }
   ],
   "source": [
    "song_titles.show(50)"
   ]
  },
  {
   "cell_type": "code",
   "execution_count": 35,
   "metadata": {
    "editable": true
   },
   "outputs": [
    {
     "name": "stdout",
     "output_type": "stream",
     "text": [
      "+----+-----+\n",
      "|song|title|\n",
      "+----+-----+\n",
      "+----+-----+\n",
      "\n"
     ]
    }
   ],
   "source": [
    "spark.sql(\"\"\"\n",
    "            SELECT staging.song, song.title\n",
    "            FROM temp_staging_titles as staging\n",
    "            JOIN temp_song_titles as song\n",
    "                ON staging.song = song.title\n",
    "            \"\"\").show(10)"
   ]
  },
  {
   "cell_type": "code",
   "execution_count": null,
   "metadata": {
    "editable": true
   },
   "outputs": [],
   "source": []
  }
 ],
 "metadata": {
  "kernelspec": {
   "display_name": "Python 3",
   "language": "python",
   "name": "python3"
  },
  "language_info": {
   "codemirror_mode": {
    "name": "ipython",
    "version": 3
   },
   "file_extension": ".py",
   "mimetype": "text/x-python",
   "name": "python",
   "nbconvert_exporter": "python",
   "pygments_lexer": "ipython3",
   "version": "3.6.3"
  }
 },
 "nbformat": 4,
 "nbformat_minor": 4
}
